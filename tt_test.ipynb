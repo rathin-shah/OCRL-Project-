{
 "cells": [
  {
   "cell_type": "code",
   "execution_count": 1,
   "metadata": {},
   "outputs": [],
   "source": [
    "import Pkg; Pkg.add(\"PyPlot\"); Pkg.add(\"ForwardDiff\"); Pkg.activate(@__DIR__); Pkg.instantiate()"
   ]
  },
  {
   "cell_type": "code",
   "execution_count": 2,
   "metadata": {},
   "outputs": [],
   "source": [
    "using LinearAlgebra\n",
    "using PyPlot\n",
    "using ForwardDiff\n",
    "using RobotZoo\n",
    "using RobotDynamics\n",
    "using MatrixCalculus"
   ]
  },
  {
   "cell_type": "code",
   "execution_count": 3,
   "metadata": {},
   "outputs": [
    {
     "data": {
      "text/plain": [
       "tractor_trailer_qdot (generic function with 1 method)"
      ]
     },
     "execution_count": 3,
     "metadata": {},
     "output_type": "execute_result"
    }
   ],
   "source": [
    "#Acrobot Dynamics\n",
    "a = RobotZoo.Acrobot()\n",
    "h = 0.05\n",
    "\n",
    "# Parameters of the tractor-trailer\n",
    "# g_velocity = 0.1\n",
    "g_tractor_wheelbase = 3.0\n",
    "g_tractor_hitch_offset = 0.5\n",
    "g_trailer_wheelbase = 6.0\n",
    "max_alpha = atan(g_tractor_wheelbase/sqrt((g_trailer_wheelbase^2) - (g_tractor_hitch_offset^2)))\n",
    "\n",
    "function tractor_trailer_qdot(q_current,u)\n",
    "    \n",
    "    # Variable to store the rate of change of state\n",
    "    alpha = u[1]\n",
    "    gear = 1\n",
    "    g_velocity = u[2]\n",
    "    \n",
    "    if(alpha!=0)\n",
    "        r1 = g_tractor_wheelbase/tan(alpha);\n",
    "        psi = -1*(alpha/abs(alpha))*atan(g_tractor_hitch_offset/abs(r1));\n",
    "        va = (gear*g_velocity/abs(g_velocity))*abs(((gear*g_velocity*g_tractor_hitch_offset*tan(alpha))/(g_tractor_wheelbase*sin(psi))));\n",
    "        vb = va*abs(cos(psi-q_current[4]));\n",
    "        r2 = g_tractor_hitch_offset/sin(psi);\n",
    "        r3 = g_trailer_wheelbase/sin(psi-q_current[4]);\n",
    "        omega_1 = gear*g_velocity*(1/r1);\n",
    "        omega_2 = gear*g_velocity*((r2)/(r1*r3));\n",
    "        trailer_theta_dot = omega_2;\n",
    "        beta_dot = gear*g_velocity*(((r2)/(r1*r3)) - (1/r1));\n",
    "    end\n",
    "\n",
    "    # Special case when alpha equals zero\n",
    "    if(alpha==0)\n",
    "        va = gear*g_velocity;\n",
    "        psi = 0;\n",
    "        phi = (pi/2) - (abs(q_current[4]) - (pi/2));\n",
    "        hitch_turn_radius_zero_alpha = g_trailer_wheelbase/sin(phi);\n",
    "        trailer_theta_dot = va/hitch_turn_radius_zero_alpha;\n",
    "        beta_dot = trailer_theta_dot;\n",
    "        vb = va*abs(cos(psi-q_current[4]));\n",
    "\n",
    "        if(sin(phi)==0)\n",
    "            beta_dot = 0;\n",
    "            trailer_theta_dot = 0;\n",
    "        end\n",
    "        \n",
    "    end\n",
    "    \n",
    "\n",
    "    q_dot = [vb*cos(q_current[3]); vb*sin(q_current[3]); trailer_theta_dot; beta_dot]\n",
    "\n",
    "    return q_dot;\n",
    "end"
   ]
  },
  {
   "cell_type": "code",
   "execution_count": 4,
   "metadata": {},
   "outputs": [
    {
     "data": {
      "text/plain": [
       "dynamics_rk4 (generic function with 1 method)"
      ]
     },
     "execution_count": 4,
     "metadata": {},
     "output_type": "execute_result"
    }
   ],
   "source": [
    "function dynamics_rk4(x,u)\n",
    "    #RK4 integration with zero-order hold on u\n",
    "    f1 = tractor_trailer_qdot(x, u)\n",
    "    f2 = tractor_trailer_qdot(x + 0.5*h*f1, u)\n",
    "    f3 = tractor_trailer_qdot(x + 0.5*h*f2, u)\n",
    "    f4 = tractor_trailer_qdot(x + h*f3, u)\n",
    "    return x + (h/6.0)*(f1 + 2*f2 + 2*f3 + f4)\n",
    "end"
   ]
  },
  {
   "cell_type": "code",
   "execution_count": 5,
   "metadata": {},
   "outputs": [
    {
     "data": {
      "text/plain": [
       "dfdu (generic function with 1 method)"
      ]
     },
     "execution_count": 5,
     "metadata": {},
     "output_type": "execute_result"
    }
   ],
   "source": [
    "function dfdx(x,u)\n",
    "    ForwardDiff.jacobian(dx->dynamics_rk4(dx,u),x)\n",
    "end\n",
    "\n",
    "function dfdu(x,u)\n",
    "    ForwardDiff.jacobian(du->dynamics_rk4(x,du),u)\n",
    "end"
   ]
  },
  {
   "cell_type": "code",
   "execution_count": 17,
   "metadata": {},
   "outputs": [],
   "source": [
    "Nx = 4     # number of state\n",
    "Nu = 2     # number of controls\n",
    "Tfinal = 13.0 # final time\n",
    "Nt = Int(Tfinal/h)+1    # number of time steps\n",
    "thist = Array(range(0,h*(Nt-1), step=h));"
   ]
  },
  {
   "cell_type": "code",
   "execution_count": 18,
   "metadata": {},
   "outputs": [],
   "source": [
    "# Cost weights\n",
    "Q = Diagonal([1.0*ones(2); 0.1*ones(2)]);\n",
    "R = Diagonal(1*ones(2));\n",
    "Qn = Array(100.0*I(Nx));"
   ]
  },
  {
   "cell_type": "code",
   "execution_count": 19,
   "metadata": {},
   "outputs": [
    {
     "data": {
      "text/plain": [
       "stage_cost (generic function with 1 method)"
      ]
     },
     "execution_count": 19,
     "metadata": {},
     "output_type": "execute_result"
    }
   ],
   "source": [
    "function stage_cost(x,u)\n",
    "    return 0.5*((x-xgoal)'*Q*(x-xgoal)) + 0.5*u'*R*u\n",
    "end"
   ]
  },
  {
   "cell_type": "code",
   "execution_count": 20,
   "metadata": {},
   "outputs": [
    {
     "data": {
      "text/plain": [
       "terminal_cost (generic function with 1 method)"
      ]
     },
     "execution_count": 20,
     "metadata": {},
     "output_type": "execute_result"
    }
   ],
   "source": [
    "function terminal_cost(x)\n",
    "    return 0.5*(x-xgoal)'*Qn*(x-xgoal)\n",
    "end"
   ]
  },
  {
   "cell_type": "code",
   "execution_count": 21,
   "metadata": {},
   "outputs": [
    {
     "data": {
      "text/plain": [
       "cost (generic function with 1 method)"
      ]
     },
     "execution_count": 21,
     "metadata": {},
     "output_type": "execute_result"
    }
   ],
   "source": [
    "function cost(xtraj,utraj)\n",
    "    J = 0.0\n",
    "    for k = 1:(Nt-1)\n",
    "        J += stage_cost(xtraj[:,k],utraj[:,k])\n",
    "    end\n",
    "    J += terminal_cost(xtraj[:,Nt])\n",
    "    return J\n",
    "end"
   ]
  },
  {
   "cell_type": "code",
   "execution_count": 22,
   "metadata": {},
   "outputs": [
    {
     "data": {
      "text/plain": [
       "2×260 Matrix{Float64}:\n",
       " -0.2  -0.2  -0.2  -0.2  -0.2  -0.2  …  -0.2  -0.2  -0.2  -0.2  -0.2  -0.2\n",
       "  0.5   0.5   0.5   0.5   0.5   0.5      0.5   0.5   0.5   0.5   0.5   0.5"
      ]
     },
     "execution_count": 22,
     "metadata": {},
     "output_type": "execute_result"
    }
   ],
   "source": [
    "#Initial guess\n",
    "x0 = [0; 0; pi/2; pi]\n",
    "u0 = [-0.2;0.5]\n",
    "xgoal = [5; 0; pi/2; pi]\n",
    "xtraj = kron(ones(1,Nt), x0)\n",
    "utraj = kron(ones(1,Nt-1), u0) #randn(Nt-1);\n",
    "# println(\"Size of utraj: \", size(utraj))"
   ]
  },
  {
   "cell_type": "code",
   "execution_count": 23,
   "metadata": {},
   "outputs": [
    {
     "data": {
      "text/plain": [
       "8143.601830727934"
      ]
     },
     "execution_count": 23,
     "metadata": {},
     "output_type": "execute_result"
    }
   ],
   "source": [
    "#Initial Rollout\n",
    "for k = 1:(Nt-1)\n",
    "    xtraj[:,k+1] .= dynamics_rk4(xtraj[:,k],utraj[:,k])\n",
    "end\n",
    "J = cost(xtraj,utraj)"
   ]
  },
  {
   "cell_type": "code",
   "execution_count": 24,
   "metadata": {},
   "outputs": [
    {
     "name": "stdout",
     "output_type": "stream",
     "text": [
      "max of d before: 1.0\n",
      "max of d: 22.570948346346395\n",
      "Cost: 6694.235373319123\n",
      "max of d: 7.277074989702151\n",
      "Cost: 4819.894217416253\n",
      "max of d: 10.078295318139249\n",
      "Cost: 4606.9056153106885\n",
      "max of d: 3.841239859409888\n",
      "Cost: 4564.995019553476\n",
      "max of d: 10.759032736724675\n",
      "Cost: 4526.281020690415\n",
      "max of d: 6.116670135480222\n",
      "Cost: 4336.934592879699\n",
      "max of d: 8.034489238833528\n",
      "Cost: 4331.640813049552\n",
      "max of d: 7.949447594320294\n",
      "Cost: 4309.545256612808\n",
      "max of d: 6.8884911620571225\n",
      "Cost: 4269.48633087894\n",
      "max of d: 7.387875773948518\n",
      "Cost: 4223.437437539566\n",
      "max of d: 7.455428791637455\n",
      "Cost: 4217.331444060949\n",
      "max of d: 7.351596542308794\n",
      "Cost: 4211.957214272269\n",
      "max of d: 7.326648420277275\n",
      "Cost: 4211.703162336572\n",
      "max of d: 7.682356681505827\n",
      "Cost: 4206.566687940934\n",
      "max of d: 8.382897451655785\n",
      "Cost: 4199.452332527464\n",
      "max of d: 9.660296996775404\n",
      "Cost: 4191.196141979605\n",
      "max of d: 11.638021736786037\n",
      "Cost: 4131.661707283928\n",
      "max of d: 7.930930303097032\n",
      "Cost: 4051.42024989432\n",
      "max of d: 10.575587864991926\n",
      "Cost: 4033.1940314235126\n",
      "max of d: 10.014886356399584\n",
      "Cost: 4013.509809015555\n",
      "max of d: 11.232321906149062\n",
      "Cost: 3954.1039095887295\n",
      "max of d: 13.894871483504893\n",
      "Cost: 3924.168251709052\n",
      "max of d: 12.24924528618087\n",
      "Cost: 3897.3671784814137\n",
      "max of d: 11.188630776958268\n",
      "Cost: 3854.16721151765\n",
      "max of d: 6.774837852013363\n",
      "Cost: 3793.1128119165523\n",
      "max of d: 6.281745706374915\n",
      "Cost: 3763.981001455468\n",
      "max of d: 7.271761674160864\n",
      "Cost: 3725.222446448614\n",
      "max of d: 8.177685146267946\n",
      "Cost: 3688.817132393628\n",
      "max of d: 6.598138662528554\n",
      "Cost: 3656.771377256833\n",
      "max of d: 4.922451764012786\n",
      "Cost: 3636.266080096616\n",
      "max of d: 4.759588327187497\n",
      "Cost: 3615.1790072589665\n",
      "max of d: 5.418676601893484\n",
      "Cost: 3557.5978501013647\n",
      "max of d: 4.8198999462753935\n",
      "Cost: 3531.762174285139\n",
      "max of d: 5.819766585264112\n",
      "Cost: 3523.250737694457\n",
      "max of d: 7.977936666201774\n",
      "Cost: 3514.788129068599\n",
      "max of d: 10.841643095425237\n",
      "Cost: 3513.355492209201\n",
      "max of d: 10.559843971272256\n",
      "Cost: 3510.632167984459\n",
      "max of d: 10.668052841996204\n",
      "Cost: 3509.17638471433\n",
      "max of d: 10.723685351643311\n",
      "Cost: 3508.2144161056685\n",
      "max of d: 10.825341008888737\n",
      "Cost: 3507.985072006615\n",
      "max of d: 10.845644804217445\n",
      "Cost: 3507.9349224429216\n",
      "max of d: 10.84828129260916\n",
      "Cost: 3507.5603129390174\n",
      "max of d: 10.98036579974498\n",
      "Cost: 3507.5591601330284\n",
      "max of d: 10.987513340533615\n",
      "Cost: 3507.5571956564163\n",
      "max of d: 10.988049668086681\n",
      "Cost: 3507.5379103174178\n"
     ]
    },
    {
     "ename": "LoadError",
     "evalue": "SingularException(2)",
     "output_type": "error",
     "traceback": [
      "SingularException(2)",
      "",
      "Stacktrace:",
      " [1] checknonsingular",
      "   @ ~/CMU/16-745_Optimal_Contol_and_RL/julia-1.8.5/share/julia/stdlib/v1.8/LinearAlgebra/src/factorization.jl:19 [inlined]",
      " [2] checknonsingular",
      "   @ ~/CMU/16-745_Optimal_Contol_and_RL/julia-1.8.5/share/julia/stdlib/v1.8/LinearAlgebra/src/factorization.jl:21 [inlined]",
      " [3] #lu!#170",
      "   @ ~/CMU/16-745_Optimal_Contol_and_RL/julia-1.8.5/share/julia/stdlib/v1.8/LinearAlgebra/src/lu.jl:82 [inlined]",
      " [4] #lu#177",
      "   @ ~/CMU/16-745_Optimal_Contol_and_RL/julia-1.8.5/share/julia/stdlib/v1.8/LinearAlgebra/src/lu.jl:279 [inlined]",
      " [5] lu (repeats 2 times)",
      "   @ ~/CMU/16-745_Optimal_Contol_and_RL/julia-1.8.5/share/julia/stdlib/v1.8/LinearAlgebra/src/lu.jl:278 [inlined]",
      " [6] \\(A::Matrix{Float64}, B::Vector{Float64})",
      "   @ LinearAlgebra ~/CMU/16-745_Optimal_Contol_and_RL/julia-1.8.5/share/julia/stdlib/v1.8/LinearAlgebra/src/generic.jl:1110",
      " [7] top-level scope",
      "   @ ./In[24]:56"
     ]
    }
   ],
   "source": [
    "#DDP Algorithm\n",
    "p = zeros(Nx,Nt)\n",
    "P = zeros(Nx,Nx,Nt)\n",
    "d = ones(2,Nt-1)\n",
    "K = zeros(Nu,Nx,Nt-1)\n",
    "ΔJ = 0.0\n",
    "\n",
    "xn = zeros(Nx,Nt)\n",
    "# un = zeros(Nt-1)\n",
    "un = zeros(Nu, Nt-1)\n",
    "\n",
    "\n",
    "gx = zeros(Nx)\n",
    "gu = zeros(Nu)\n",
    "Gxx = zeros(Nx,Nx)\n",
    "Guu = zeros(Nu,Nu)\n",
    "Gxu = zeros(Nx)\n",
    "Gux = zeros(Nx)\n",
    "\n",
    "println(\"max of d before: \", maximum(abs.(d[:,:])))\n",
    "\n",
    "\n",
    "iter = 0\n",
    "while maximum(abs.(d[:,:])) > 1e-3\n",
    "    iter += 1\n",
    "    \n",
    "    p = zeros(Nx,Nt)\n",
    "    P = zeros(Nx,Nx,Nt)\n",
    "    d = ones(2,Nt-1)\n",
    "    K = zeros(Nu,Nx,Nt-1)\n",
    "    ΔJ = 0.0\n",
    "\n",
    "    p[:,Nt] = Qn*(xtraj[:,Nt]-xgoal)\n",
    "#     println(\"Shape of p: \", size(p[:,Nt]))\n",
    "    P[:,:,Nt] = Qn\n",
    "    \n",
    "    #Backward Pass\n",
    "    for k = (Nt-1):-1:1\n",
    "        #Calculate derivatives\n",
    "        q = Q*(xtraj[:,k]-xgoal)\n",
    "        r = R*utraj[:,k]\n",
    "    \n",
    "        A = dfdx(xtraj[:,k], utraj[:,k]) #ForwardDiff.jacobian(dx->dynamics_rk4(dx,utraj[k]),xtraj[:,k])\n",
    "        B = dfdu(xtraj[:,k], utraj[:,k]) #ForwardDiff.derivative(du->dynamics_rk4(xtraj[:,k],du),utraj[k])\n",
    "        \n",
    "#         println(\"Value of B[1] is: \", B[1])\n",
    "    \n",
    "        gx = q + A'*p[:,k+1]\n",
    "        gu = r + B'*p[:,k+1]\n",
    "    \n",
    "        Gxx = Q + A'*P[:,:,k+1]*A \n",
    "        Guu = R + B'*P[:,:,k+1]*B \n",
    "        Gxu = A'*P[:,:,k+1]*B \n",
    "        Gux = B'*P[:,:,k+1]*A\n",
    "        \n",
    "        d[:,k] = Guu\\gu\n",
    "        K[:,:,k] .= Guu\\Gux\n",
    "        \n",
    "#         println(\"Size of K: \", size(K[:,:,k]))\n",
    "#         tempro = gx - K[:,:,k]'*gu + K[:,:,k]'*Guu*d[:,k] - Gxu*d[:,k]\n",
    "#         println(\"shape of tempro: \", size(tempro))\n",
    "    \n",
    "#         p[:,k] .= dropdims(gx - K[:,:,k]'*gu + K[:,:,k]'*Guu*d[:,k] - Gxu*d[:,k], dims=2)\n",
    "        p[:,k] .= gx - K[:,:,k]'*gu + K[:,:,k]'*Guu*d[:,k] - Gxu*d[:,k]\n",
    "        \n",
    "        P[:,:,k] .= Gxx + K[:,:,k]'*Guu*K[:,:,k] - Gxu*K[:,:,k] - K[:,:,k]'*Gux\n",
    "    \n",
    "        ΔJ += gu'*d[:,k]\n",
    "    end\n",
    "\n",
    "    #Forward rollout with line search\n",
    "    xn[:,1] = xtraj[:,1]\n",
    "    α = 1.0\n",
    "\n",
    "    for k = 1:(Nt-1)\n",
    "        un[:,k] .= utraj[:,k] - α*d[:,k] - K[:,:,k]*(xn[:,k]-xtraj[:,k])\n",
    "        xn[:,k+1] .= dynamics_rk4(xn[:,k],un[:,k])\n",
    "    end\n",
    "    \n",
    "    Jn = cost(xn,un)\n",
    "    \n",
    "    while isnan(Jn) || Jn > (J - 1e-2*α*ΔJ)\n",
    "        α = 0.5*α\n",
    "        for k = 1:(Nt-1)\n",
    "            un[:,k] .= utraj[:,k] - α*d[:,k] - K[:,:,k]*(xn[:,k]-xtraj[:,k])\n",
    "            xn[:,k+1] .= dynamics_rk4(xn[:,k],un[:,k])\n",
    "        end\n",
    "        Jn = cost(xn,un)\n",
    "    end\n",
    "    #display(α)\n",
    "    \n",
    "    println(\"max of d: \", maximum(abs.(d[:,:])))\n",
    "    \n",
    "    println(\"Cost: \", Jn)\n",
    "    \n",
    "    J = Jn\n",
    "    xtraj .= xn\n",
    "    utraj .= un\n",
    "end"
   ]
  },
  {
   "cell_type": "code",
   "execution_count": 25,
   "metadata": {},
   "outputs": [
    {
     "data": {
      "text/plain": [
       "46"
      ]
     },
     "execution_count": 25,
     "metadata": {},
     "output_type": "execute_result"
    }
   ],
   "source": [
    "iter"
   ]
  },
  {
   "cell_type": "code",
   "execution_count": 26,
   "metadata": {},
   "outputs": [
    {
     "data": {
      "text/plain": [
       "3507.5379103174178"
      ]
     },
     "execution_count": 26,
     "metadata": {},
     "output_type": "execute_result"
    }
   ],
   "source": [
    "J"
   ]
  },
  {
   "cell_type": "code",
   "execution_count": 27,
   "metadata": {},
   "outputs": [
    {
     "data": {
      "image/png": "[encoded data removed]",
      "text/plain": [
       "Figure(PyObject <Figure size 640x480 with 1 Axes>)"
      ]
     },
     "metadata": {},
     "output_type": "display_data"
    },
    {
     "data": {
      "text/plain": [
       "1-element Vector{PyCall.PyObject}:\n",
       " PyObject <matplotlib.lines.Line2D object at 0x7f2fcac822c0>"
      ]
     },
     "execution_count": 27,
     "metadata": {},
     "output_type": "execute_result"
    }
   ],
   "source": [
    "plot(xtraj[1,:],xtraj[2,:])\n",
    "\n",
    "# plot(thist,xtraj[2,:])"
   ]
  },
  {
   "cell_type": "code",
   "execution_count": 81,
   "metadata": {},
   "outputs": [
    {
     "data": {
      "image/png": "[encoded data removed]",
      "text/plain": [
       "Figure(PyObject <Figure size 640x480 with 1 Axes>)"
      ]
     },
     "metadata": {},
     "output_type": "display_data"
    },
    {
     "data": {
      "text/plain": [
       "1-element Vector{PyCall.PyObject}:\n",
       " PyObject <matplotlib.lines.Line2D object at 0x7f81432e5ea0>"
      ]
     },
     "execution_count": 81,
     "metadata": {},
     "output_type": "execute_result"
    }
   ],
   "source": [
    "plot(thist[1:Nt-1],utraj[1,:])"
   ]
  },
  {
   "cell_type": "code",
   "execution_count": 82,
   "metadata": {},
   "outputs": [
    {
     "data": {
      "image/png": "[encoded data removed]",
      "text/plain": [
       "Figure(PyObject <Figure size 640x480 with 1 Axes>)"
      ]
     },
     "metadata": {},
     "output_type": "display_data"
    },
    {
     "data": {
      "text/plain": [
       "1-element Vector{PyCall.PyObject}:\n",
       " PyObject <matplotlib.lines.Line2D object at 0x7f8143156830>"
      ]
     },
     "execution_count": 82,
     "metadata": {},
     "output_type": "execute_result"
    }
   ],
   "source": [
    "plot(thist[1:Nt-1],utraj[2,:])"
   ]
  },
  {
   "cell_type": "code",
   "execution_count": null,
   "metadata": {},
   "outputs": [],
   "source": [
    "using TrajOptPlots\n",
    "using MeshCat\n",
    "using StaticArrays\n",
    "\n",
    "vis = Visualizer()\n",
    "render(vis)"
   ]
  },
  {
   "cell_type": "code",
   "execution_count": null,
   "metadata": {},
   "outputs": [],
   "source": [
    "TrajOptPlots.set_mesh!(vis, a)"
   ]
  },
  {
   "cell_type": "code",
   "execution_count": null,
   "metadata": {},
   "outputs": [],
   "source": [
    "X1 = [SVector{4}(x) for x in eachcol(xtraj)];\n",
    "visualize!(vis, a, thist[end], X1)"
   ]
  },
  {
   "cell_type": "code",
   "execution_count": null,
   "metadata": {},
   "outputs": [],
   "source": []
  }
 ],
 "metadata": {
  "kernelspec": {
   "display_name": "Julia 1.8.5",
   "language": "julia",
   "name": "julia-1.8"
  },
  "language_info": {
   "file_extension": ".jl",
   "mimetype": "application/julia",
   "name": "julia",
   "version": "1.8.5"
  }
 },
 "nbformat": 4,
 "nbformat_minor": 4
}
